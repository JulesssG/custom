{
 "cells": [
  {
   "cell_type": "code",
   "execution_count": 2,
   "metadata": {
    "Collapsed": "false"
   },
   "outputs": [],
   "source": [
    "import cv2\n",
    "import numpy as np"
   ]
  },
  {
   "cell_type": "code",
   "execution_count": 3,
   "metadata": {
    "Collapsed": "false"
   },
   "outputs": [],
   "source": [
    "def uint8tobits(array):\n",
    "    bits = []\n",
    "    for byte in array:\n",
    "        byte_bin = bin(byte)[2:]\n",
    "        byte_bin = [np.uint8(0)]*(8-len(byte_bin)) + list(byte_bin)\n",
    "        for bit in byte_bin:\n",
    "            bits.append(bit)\n",
    "\n",
    "    return np.array(bits).astype(int)\n"
   ]
  },
  {
   "cell_type": "code",
   "execution_count": 9,
   "metadata": {
    "Collapsed": "false"
   },
   "outputs": [],
   "source": [
    "filename, input_image, output_image = 'testcode', '/home/jules/images/pictures/Phone Chloé/IMG_0417.PNG', 'out.jpg'\n",
    "\n",
    "# Read the code as list of bits\n",
    "code = []\n",
    "with open(filename, 'rb') as f:\n",
    "    for byte in f.read():\n",
    "        code.append(byte)\n",
    "code = uint8tobits(code)"
   ]
  },
  {
   "cell_type": "code",
   "execution_count": 61,
   "metadata": {
    "Collapsed": "false"
   },
   "outputs": [
    {
     "name": "stdout",
     "output_type": "stream",
     "text": [
      "[0 0 0 0 0 0 0 0 0 0]\n",
      "code\n",
      "[0 1 0 0 1 0 0 0 0 1 1 0 0 1 0 1 0 1 1 0 1 1 0 0 0 1 1 0 1 1 0 0 0 1 1 0 1\n",
      " 1 1 1 0 0 1 0 0 0 0 0 0 1 0 1 0 1 1 1 0 1 1 0 1 1 1 1 0 1 1 1 0 0 1 0 0 1\n",
      " 1 0 1 1 0 0 0 1 1 0 0 1 0 0 0 0 0 0 1 0 1 0] 96\n"
     ]
    }
   ],
   "source": [
    "# Encode the code into the image\n",
    "\n",
    "image = cv2.imread(input_image).astype(int)\n",
    "image_original = image.copy()\n",
    "height, width, nchannels = image.shape\n",
    "image = image.ravel()#.reshape(-1, nchannels)\n",
    "print(image[:10].ravel())\n",
    "num_bits = len(code)\n",
    "print('code')\n",
    "print(code[:100], num_bits)\n",
    "\n",
    "\"\"\"\n",
    "channel = None\n",
    "for c in range(nchannels+1):\n",
    "    if np.max(image[:,c]) < 255:\n",
    "        channel = c\n",
    "        break\n",
    "if channel == None:\"\"\"\n",
    "if np.max(image[:num_bits]) >= 255:\n",
    "    print('The input image is not compatible for encoding')\n",
    "    exit(1)\n",
    "\n",
    "if num_bits > image.shape[0]:\n",
    "    print(\"Number of bits in code exceed the image resolution.\")\n",
    "    exit(1)"
   ]
  },
  {
   "cell_type": "code",
   "execution_count": 45,
   "metadata": {
    "Collapsed": "false"
   },
   "outputs": [
    {
     "name": "stdout",
     "output_type": "stream",
     "text": [
      "[[0. 1. 0. ... 0. 0. 0.]\n",
      " [0. 0. 0. ... 0. 0. 0.]\n",
      " [0. 0. 0. ... 0. 0. 0.]\n",
      " ...\n",
      " [0. 0. 0. ... 0. 0. 0.]\n",
      " [0. 0. 0. ... 0. 0. 0.]\n",
      " [0. 0. 0. ... 0. 0. 0.]]\n"
     ]
    },
    {
     "data": {
      "text/plain": [
       "array([0, 1, 0, 0, 1, 0, 0, 0, 0, 1, 1, 0, 0, 1, 0, 1, 0, 1, 1, 0])"
      ]
     },
     "execution_count": 45,
     "metadata": {},
     "output_type": "execute_result"
    }
   ],
   "source": [
    "test = np.zeros(1000500,)\n",
    "test[:num_bits] = code\n",
    "test = test.reshape(image_original.shape[:-1])\n",
    "print(test[:10])\n",
    "image_original[:,:,0] = test\n",
    "image_original[:,:,0].ravel()[:20]"
   ]
  },
  {
   "cell_type": "code",
   "execution_count": 68,
   "metadata": {
    "Collapsed": "false"
   },
   "outputs": [
    {
     "name": "stdout",
     "output_type": "stream",
     "text": [
      "[0 1 0 0 1 0 0 0 0 1 1 0 0 1 0 1 0 1 1 0]\n"
     ]
    },
    {
     "ename": "ValueError",
     "evalue": "could not broadcast input array from shape (1000500) into shape (1334,750)",
     "output_type": "error",
     "traceback": [
      "\u001b[0;31m---------------------------------------------------------------------------\u001b[0m",
      "\u001b[0;31mValueError\u001b[0m                                Traceback (most recent call last)",
      "\u001b[0;32m<ipython-input-68-fcae84d23c9e>\u001b[0m in \u001b[0;36m<module>\u001b[0;34m\u001b[0m\n\u001b[1;32m      2\u001b[0m \u001b[0mi\u001b[0m \u001b[0;34m=\u001b[0m \u001b[0mimage_original\u001b[0m\u001b[0;34m[\u001b[0m\u001b[0;34m:\u001b[0m\u001b[0;34m,\u001b[0m\u001b[0;34m:\u001b[0m\u001b[0;34m,\u001b[0m\u001b[0;36m0\u001b[0m\u001b[0;34m]\u001b[0m\u001b[0;34m.\u001b[0m\u001b[0mravel\u001b[0m\u001b[0;34m(\u001b[0m\u001b[0;34m)\u001b[0m\u001b[0;34m\u001b[0m\u001b[0;34m\u001b[0m\u001b[0m\n\u001b[1;32m      3\u001b[0m \u001b[0mi\u001b[0m\u001b[0;34m[\u001b[0m\u001b[0;34m:\u001b[0m\u001b[0mnum_bits\u001b[0m\u001b[0;34m]\u001b[0m \u001b[0;34m=\u001b[0m \u001b[0mcode\u001b[0m\u001b[0;34m\u001b[0m\u001b[0;34m\u001b[0m\u001b[0m\n\u001b[0;32m----> 4\u001b[0;31m \u001b[0mimage_original\u001b[0m\u001b[0;34m[\u001b[0m\u001b[0;34m:\u001b[0m\u001b[0;34m,\u001b[0m\u001b[0;34m:\u001b[0m\u001b[0;34m,\u001b[0m\u001b[0;36m0\u001b[0m\u001b[0;34m]\u001b[0m \u001b[0;34m=\u001b[0m \u001b[0mi\u001b[0m\u001b[0;34m\u001b[0m\u001b[0;34m\u001b[0m\u001b[0m\n\u001b[0m\u001b[1;32m      5\u001b[0m \u001b[0mprint\u001b[0m\u001b[0;34m(\u001b[0m\u001b[0mimage_original\u001b[0m\u001b[0;34m[\u001b[0m\u001b[0;36m0\u001b[0m\u001b[0;34m,\u001b[0m \u001b[0;34m:\u001b[0m\u001b[0;36m20\u001b[0m\u001b[0;34m,\u001b[0m \u001b[0;36m0\u001b[0m\u001b[0;34m]\u001b[0m\u001b[0;34m)\u001b[0m\u001b[0;34m\u001b[0m\u001b[0;34m\u001b[0m\u001b[0m\n",
      "\u001b[0;31mValueError\u001b[0m: could not broadcast input array from shape (1000500) into shape (1334,750)"
     ]
    }
   ],
   "source": [
    "print(image_original[:,:,0].ravel()[:20])\n",
    "i = image_original[:,:,0].ravel()\n",
    "i[:num_bits] = np.\n",
    "image_original[:,:,0] = i\n",
    "print(image_original[0, :20, 0])"
   ]
  },
  {
   "cell_type": "code",
   "execution_count": null,
   "metadata": {
    "Collapsed": "false"
   },
   "outputs": [],
   "source": [
    "print(image[:10].ravel())\n",
    "# print(orig[:10])\n",
    "image_original[:,:,0].ravel()[:num_bits] = 1# code\n",
    "# print(image.reshape(height, width, nchannels)[:,:,0].ravel()[:20])\n",
    "cv2.imwrite(output_image, image_original)\n",
    "\n",
    "image2 = cv2.imread(output_image)[:,:,0].ravel()[:num_bits]\n",
    "print(image_original[:,:,0].ravel()[:20])\n",
    "print(image2[:20])\n"
   ]
  }
 ],
 "metadata": {
  "kernelspec": {
   "display_name": "Python 3",
   "language": "python",
   "name": "python3"
  },
  "language_info": {
   "codemirror_mode": {
    "name": "ipython",
    "version": 3
   },
   "file_extension": ".py",
   "mimetype": "text/x-python",
   "name": "python",
   "nbconvert_exporter": "python",
   "pygments_lexer": "ipython3",
   "version": "3.8.5"
  }
 },
 "nbformat": 4,
 "nbformat_minor": 4
}
